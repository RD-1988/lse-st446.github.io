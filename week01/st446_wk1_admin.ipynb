{
 "cells": [
  {
   "cell_type": "markdown",
   "metadata": {
    "slideshow": {
     "slide_type": "slide"
    }
   },
   "source": [
    "# ST446 Distributed Computing for Big Data\n",
    "\n",
    "## Week 1, LT 2018\n",
    "\n",
    "### Instructor: Milan Vojnovic\n",
    "\n",
    "### Teaching assistant: Christine Yuen\n",
    "\n",
    "---"
   ]
  },
  {
   "cell_type": "markdown",
   "metadata": {
    "slideshow": {
     "slide_type": "slide"
    }
   },
   "source": [
    "## Your team\n",
    "\n",
    "* Instructor: [Milan Vojnovic](mailto:m.vojnovic@lse.ac.uk)\n",
    "* Teaching instructor: [Christine Yuen](mailto:l.t.yuen@lse.ac.uk)"
   ]
  },
  {
   "cell_type": "markdown",
   "metadata": {
    "slideshow": {
     "slide_type": "slide"
    }
   },
   "source": [
    "## Plan today\n",
    "\n",
    "* Administration and logistics (this slide deck)\n",
    "* Introduction to big data analytics\n",
    "* Lab preview"
   ]
  },
  {
   "cell_type": "markdown",
   "metadata": {
    "slideshow": {
     "slide_type": "slide"
    }
   },
   "source": [
    "## Why take this course?\n",
    "\n",
    "* It will provide you with knowledge about principles and how to use modern computing systems for processing big data\n",
    "\n",
    "* You will learn\n",
    "   * basic principles, system architectures, and APIs for storing and processing big data\n",
    "   * how to conduct batch data processing at scale\n",
    "   * how to query data at scale using structured query languages\n",
    "   * how to conduct graph data analytics\n",
    "   * how to conduct stream data processing\n",
    "   * how to solve large-scale machine learning tasks"
   ]
  },
  {
   "cell_type": "markdown",
   "metadata": {
    "slideshow": {
     "slide_type": "slide"
    }
   },
   "source": [
    "## Course outline\n",
    "\n",
    "| Week | Topic | Week | Topic |\n",
    "| ---- | ----- | ---- | ----- |\n",
    "| 1 | Introduction | 7 | Stream data processing |\n",
    "| 2 | Distributed file systems and key value stores | 8 | Scalable machine learning I|\n",
    "| 3 | Computation models | 9 | Scalable machine learning II|\n",
    "| 4 | Structured data management | 10 | AI and deep learning tasks |\n",
    "| 5 | Graph data processing | 11 | Numerical computations using data flows |\n",
    "| 6 | _Reading week_\n",
    "\n",
    "Guest lecturers:\n",
    "\n",
    "* Week 7: Eno Thereska, *Principal Scientist*, Amazon\n",
    "* Week 9: Ryota Tomioka, *Researcher*, Microsoft Research\n",
    "* Week 10: Marc Cohen, *Software Engineer*, Google\n"
   ]
  },
  {
   "cell_type": "markdown",
   "metadata": {
    "slideshow": {
     "slide_type": "slide"
    }
   },
   "source": [
    "## Prerequisites, software and services\n",
    "\n",
    "* Basic knowledge of Python\n",
    "   * Mirrors similar tool usage and learning in ST445\n",
    "\n",
    "* Software and services:\n",
    "   * Python and jupyter notebooks\n",
    "   * Hadoop\n",
    "   * Bigtable \n",
    "   * Hive\n",
    "   * SQL like APIs (e.g. BigQuery)\n",
    "   * Spark (PySpark interface)\n",
    "   * Google Cloud Platform (GCP) (**ACK: our sponsor**)\n",
    "   * Github to share course documents and assignments\n"
   ]
  },
  {
   "cell_type": "markdown",
   "metadata": {
    "slideshow": {
     "slide_type": "slide"
    }
   },
   "source": [
    "## Readings\n",
    "\n",
    "* Mixed set of readings, specific to each week\n",
    "   * Sources include books, white papers and research papers that describe the design of various systems for big data analytics\n",
    "   * Available from LSE library or purchase from Amazon\n",
    "   \n",
    "* Often linked to Internet sources\n",
    "   * References to research and white papers are provided"
   ]
  },
  {
   "cell_type": "markdown",
   "metadata": {
    "slideshow": {
     "slide_type": "slide"
    }
   },
   "source": [
    "## Course meetings\n",
    "\n",
    "* Ten two-hour lectures: Monday 10:00–12:00 in TW2.2.04\n",
    "* Ten 1.5-hour classes (computer labs): Thursdays 12:30–14:00 in TW2.4.01\n",
    "* No lecture/class in Week 6\n",
    "* Office hours\n",
    "   * Milan: Tuesdays 14:00-15:00\n",
    "   * Christine: Mondays 13:00-14:00 (from week 2, computer lab related questions only)"
   ]
  },
  {
   "cell_type": "markdown",
   "metadata": {
    "slideshow": {
     "slide_type": "slide"
    }
   },
   "source": [
    "## Assessment\n",
    "\n",
    "* Weekly assignments (20%)\n",
    "   * 2 problem sets will be accessed (each 10%)\n",
    "   * Other problem sets will be assigned but not assessed\n",
    "\n",
    "* Project (80%)\n",
    "   * Work on conducting a big data analytics task\n",
    "   * We encourage you to _work on your projects throughout the course_"
   ]
  },
  {
   "cell_type": "markdown",
   "metadata": {
    "slideshow": {
     "slide_type": "slide"
    }
   },
   "source": [
    "## Project topics will be provided\n",
    "\n",
    "Examples:\n",
    "\n",
    "* Graph queries on Yago knowledge base / MusicBrainz\n",
    "* Queries on Yelp data reviews\n",
    "* Movie recommendations using Netflix / MovieLens datasets\n",
    "* Using Spark on Azure\n",
    "* ML using Microsoft Cognitive Toolkit\n",
    "* Querying using Microsoft Cosmos DB\n",
    "* Amazon graph database Neptun\n",
    "* Querying graphs using Neo4J database\n",
    "* Optimizing Hive queries\n",
    "* Querying key-value pairs using Apache Cassandra \n",
    "* Stream processing using Amazon Kinesis\n",
    "* Approximate query answering in Spark SQL\n",
    "* Working with Apache Kafka\n",
    "* Deep neural network training using Tensorflow\n",
    "* Create activity charts for big data technologies (e.g. Spark, Hive, Cassandra) over time, using Stack Overflow / github archive data on BigQuery\n",
    "* Financial times dataset basic text analysis using Spark / stock price prediction"
   ]
  },
  {
   "cell_type": "markdown",
   "metadata": {
    "slideshow": {
     "slide_type": "slide"
    }
   },
   "source": [
    "## Collaborations\n",
    "\n",
    "* All assignments are individual unless we instruct you otherwise\n",
    "* For individual assignments:\n",
    "   * You can discuss solutions with peers\n",
    "   * You are not allowed to copy-and-paste the code\n",
    "   * You need to write the code yourself\n",
    "* You can use online resources but always give credit in comments if you borrow code or solution"
   ]
  },
  {
   "cell_type": "markdown",
   "metadata": {
    "slideshow": {
     "slide_type": "slide"
    }
   },
   "source": [
    "## Remarks on software tools\n",
    "\n",
    "* We advise you that you use your own laptops (and GCP when needed)\n",
    "* We encourage you to install various software locally\n",
    "   * This will allow you to gain hands-on experience and learn about various system components and configuration options\n",
    "\n",
    "* You may use software installed locally in your system or run it within a docker container or on GCP\n",
    "   * We will provide you with instructions how to do this\n",
    "   \n",
    "* We will use GCP in the course\n",
    "   * You need to send us your gmail account, so we can add you as a user in our GCP account\n",
    "\n",
    "* We will use GitHub Classroom for the course\n",
    "  * You need to send us your GitHub username, so we can sign you up for the lse-st446 organization\n",
    "  "
   ]
  }
 ],
 "metadata": {
  "celltoolbar": "Slideshow",
  "kernelspec": {
   "display_name": "Python 3",
   "language": "python",
   "name": "python3"
  },
  "language_info": {
   "codemirror_mode": {
    "name": "ipython",
    "version": 3
   },
   "file_extension": ".py",
   "mimetype": "text/x-python",
   "name": "python",
   "nbconvert_exporter": "python",
   "pygments_lexer": "ipython3",
   "version": "3.5.2"
  }
 },
 "nbformat": 4,
 "nbformat_minor": 2
}
