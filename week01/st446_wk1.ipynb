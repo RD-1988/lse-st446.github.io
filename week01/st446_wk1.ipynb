{
 "cells": [
  {
   "cell_type": "markdown",
   "metadata": {
    "nbpresent": {
     "id": "1620b10f-6d53-4da9-ac79-dc4eb4b58d70"
    },
    "slideshow": {
     "slide_type": "slide"
    }
   },
   "source": [
    "# ST446 Distributed Computing for Big Data\n",
    "\n",
    "## Week 1: Introduction\n",
    "\n",
    "### Milan Vojnovic, LT 2018\n",
    "---"
   ]
  },
  {
   "cell_type": "markdown",
   "metadata": {
    "slideshow": {
     "slide_type": "slide"
    }
   },
   "source": [
    "# Outline\n",
    "\n",
    "* What is big data?\n",
    "* Data sources: unstructured, semi-structured, structured\n",
    "* The world of SQL databases\n",
    "* Modern big data analytics systems"
   ]
  },
  {
   "cell_type": "markdown",
   "metadata": {
    "slideshow": {
     "slide_type": "slide"
    }
   },
   "source": [
    "# Big Data\n",
    "\n",
    "* The term in use since 1990s, no single universally accepted definition\n",
    "* Our working definition: \n",
    "    * A dataset whose _size_ or _complexity_ make traditional data processing application software inadequate\n",
    "\n",
    "* Big data has at least one of the following properties:\n",
    "   * **Volume**: large quantity of generated and stored data\n",
    "   * **Variety**: data may be of different type\n",
    "   * **Velocity**: data may be generated at different speeds\n",
    "   * **Veracity**: the quality of captured data can vary greatly"
   ]
  },
  {
   "cell_type": "markdown",
   "metadata": {
    "slideshow": {
     "slide_type": "slide"
    }
   },
   "source": [
    "<img src=\"figs/4-Vs-of-big-data.jpg\" style=\"width: 700px;\" alt=\"big data timeline\"> \n"
   ]
  },
  {
   "cell_type": "markdown",
   "metadata": {
    "slideshow": {
     "slide_type": "slide"
    }
   },
   "source": [
    "# Data volume units\n",
    "\n",
    "\n",
    "| unit      |  abbreviation | total bytes | nearest decimal |\n",
    "|-----------|----------|------|----|\n",
    "| kilobyte  | **KB** | $1024$   | $10^3$    |\n",
    "| megabyte  | **MB** | $1024^2$ | $10^6$    |\n",
    "| gigabyte  | **GB** | $1024^3$ | $10^9$    |\n",
    "| terabyte  | **TB** | $1024^4$ | $10^{12}$ |\n",
    "| petabyte  | **PB** | $1024^5$ | $10^{15}$ | \n",
    "| exabyte   | **EB** | $1024^6$ | $10^{18}$ |\n",
    "| zettabyte | **ZB** | $1024^7$ | $10^{21}$ |\n",
    "| yottabyte | **YB** | $1024^8$ | $10^{24}$ |\n"
   ]
  },
  {
   "cell_type": "markdown",
   "metadata": {
    "slideshow": {
     "slide_type": "slide"
    }
   },
   "source": [
    "# Data volume examples\n",
    "\n",
    "* **Human population**: **7.6B** people\n",
    "* **Mobile phones**: **4.77B** devices\n",
    "* **Wikipedia**: **43,783,651** total wiki pages, **5,553,854** English articles, as of Dec 2017; **10TB** uncompressed, **100GB** compressed (7-zip) size of the dump of all pages with complete edit history in XML format as of Jun 2015 \n",
    "* **WWW**: **>= 4.56B** web pages\n",
    "* **Facebook**: **2.07B** monthly active users, **1.37B** daily active users, **300M** photo uploads per day, **338** friends per user in 2017\n",
    "* **Linkedin**: **500M** users\n",
    "* **Twitter**: **328M** monthly active users\n",
    "* **Google knowledge graph**: more than **70M** facts\n",
    "* **Yago knowledge base**: more than **10M** entities and **120M** facts\n",
    "* **Criteo Terabyte click logs**: **50GB** raw data per day, **195M** ad impressions per day, **26** features, **24** days\n",
    "* **ImageNet dataset**: **14,197,122** images, **1.2TB** compressed size\n"
   ]
  },
  {
   "cell_type": "markdown",
   "metadata": {
    "slideshow": {
     "slide_type": "notes"
    }
   },
   "source": [
    "# Sources\n",
    "\n",
    "* Human population: [wordometers](http://www.worldometers.info/world-population/)\n",
    "* Mobile phones: [statista](https://www.statista.com/statistics/274774/forecast-of-mobile-phone-users-worldwide/)\n",
    "* Wikipedia: [wikipedia](https://en.wikipedia.org/wiki/Wikipedia:Size_of_Wikipedia)\n",
    "* WWW: [worldwidewebsize.com](http://www.worldwidewebsize.com/)\n",
    "* Facebook: [zephoria](https://zephoria.com/top-15-valuable-facebook-statistics/), [brandwatch](https://www.brandwatch.com/blog/47-facebook-statistics-2016/), [techcrunch](https://techcrunch.com/2012/08/22/how-big-is-facebooks-data-2-5-billion-pieces-of-content-and-500-terabytes-ingested-every-day/)\n",
    "* Linkedin: [fortune](http://fortune.com/2017/04/24/linkedin-users/)\n",
    "* Google knowledge graph: [google](https://www.google.com/intl/bn/insidesearch/features/search/knowledge.html)\n",
    "* Yago: [yago][https://www.mpi-inf.mpg.de/departments/databases-and-information-systems/research/yago-naga/yago/#c10444]\n",
    "* Twitter: [statista](https://www.statista.com/topics/737/twitter/)\n",
    "* Criteo: [criteo](http://labs.criteo.com/2013/12/download-terabyte-click-logs/)\n",
    "* ImageNet: [imagine-net](http://image-net.org/)"
   ]
  },
  {
   "cell_type": "markdown",
   "metadata": {
    "slideshow": {
     "slide_type": "slide"
    }
   },
   "source": [
    "# Facebook: number of monthly active users\n",
    "\n",
    "<img src=\"figs/facebook_monthly_active_users.png\" style=\"width: 600px;\" alt=\"facebook\"> \n",
    "\n",
    "[Source](https://www.statista.com/statistics/264810/number-of-monthly-active-facebook-users-worldwide/)\n",
    "\n",
    "* Growing user base: need systems that can scale"
   ]
  },
  {
   "cell_type": "markdown",
   "metadata": {
    "slideshow": {
     "slide_type": "slide"
    }
   },
   "source": [
    "# Data source types\n",
    "\n",
    "* **Structured**: any data that has a _schema_, i.e. a known set of fields for each record\n",
    "   * Relational Database Management Systems (RDBMS) such as Oracle database, IBM DB2, Microsoft SQL Server\n",
    "* **Semi-structured**: a form of structured data that does not conform with the formal structure of data models associated with _relational databases_ or other forms of _data tables_, but contains _tags_ or other markers to separate semantic elements and enforce hierarchies of records and fields within the data\n",
    "   * XML (Extensible Markup Language) an other markup languages, JSON (JavaScript Object Notation), ...\n",
    "* **Unstructured**: a data that either does not have a pre-defined data model or is not organized in a pre-defined manner\n",
    "    * Textual data, speech, video, ...\n",
    "    \n",
    "Note: semi-structured data discussed in Buneman's PODS [paper](https://homepages.inf.ed.ac.uk/opb/papers/PODS1997a.pdf)"
   ]
  },
  {
   "cell_type": "markdown",
   "metadata": {
    "slideshow": {
     "slide_type": "slide"
    }
   },
   "source": [
    "# Structured data sources\n",
    "\n",
    "```\n",
    "+------------------------+-----------------------------------+------+-----+\n",
    "| Field                  | Type                              | Null | Key |\n",
    "+------------------------+-----------------------------------+------+-----+\n",
    "| Host                   | char(60)                          | NO   | PRI |\n",
    "| User                   | char(32)                          | NO   | PRI |\n",
    "| Select_priv            | enum('N','Y')                     | NO   |     |\n",
    "| Insert_priv            | enum('N','Y')                     | NO   |     |\n",
    "| Update_priv            | enum('N','Y')                     | NO   |     |\n",
    "| Delete_priv            | enum('N','Y')                     | NO   |     |\n",
    "| Create_priv            | enum('N','Y')                     | NO   |     |\n",
    "| Drop_priv              | enum('N','Y')                     | NO   |     |\n",
    "| x509_issuer            | blob                              | NO   |     |\n",
    "| max_connections        | int(11) unsigned                  | NO   |     |\n",
    "| plugin                 | char(64)                          | NO   |     |\n",
    "| authentication_string  | text                              | YES  |     |\n",
    "| password_last_changed  | timestamp                         | YES  |     |\n",
    "| password_lifetime      | smallint(5) unsigned              | YES  |     |\n",
    "| account_locked         | enum('N','Y')                     | NO   |     |\n",
    "+------------------------+-----------------------------------+------+-----+\n",
    "```\n",
    "\n",
    "Note: thinned down table from mysql database (so that it can fit into a slide)"
   ]
  },
  {
   "cell_type": "markdown",
   "metadata": {
    "slideshow": {
     "slide_type": "slide"
    }
   },
   "source": [
    "# Semi-structured data examples\n",
    "\n",
    "* Delimited-separated file formats (e.g. csv and tab files)\n",
    "* JSON files\n",
    "* XML files\n",
    "* ..."
   ]
  },
  {
   "cell_type": "markdown",
   "metadata": {
    "slideshow": {
     "slide_type": "slide"
    }
   },
   "source": [
    "# Delimiter-separated file formats\n",
    "\n",
    "* File format for storing tabular data in plain text\n",
    "* Each line of the file is a data record\n",
    "* Each record consists of one or more fields, separated by a delimiter\n",
    "* Common formats:\n",
    "   * **csv**: delimiter is a comma (`,`)\n",
    "   * **tsv**: delimiter is a tab (`\\t`)\n",
    "* The csv file format is not standardized\n",
    "\n",
    "For more information on csv, see [here](https://en.wikipedia.org/wiki/Comma-separated_values)"
   ]
  },
  {
   "cell_type": "markdown",
   "metadata": {
    "slideshow": {
     "slide_type": "slide"
    }
   },
   "source": [
    "# tsv example: Yago semantic knowledge base\n",
    "\n",
    "From `yagoFacts.tsv`:\n",
    "\n",
    "```\n",
    "<id_rB6isMnplh_H?S_LT?Qo1Fzc!>  <Jesús_Rivera_Sánchez>  <isLeaderOf>    <Pueblo_of_Naranjito>   \n",
    "<id_BOK!FvTDPu_H?S_1NVSTKkFbS>  <Elizabeth_II>  <isLeaderOf>    <Royal_Numismatic_Society>      \n",
    "<id_Uy5EwU3nX1_H?S_otuJrkvKs1>  <Richard_Stallman>      <isLeaderOf>    <Free_Software_Foundation>      \n",
    "<id_A?rIHtKpyX_H?S_Ap3TBzfE6b>  <Keith_Peterson>        <isLeaderOf>    <Cambridge_Bay> \n",
    "<id_vzhzgmCR5Y_H?S_9xW07qYiaH>  <William_H._Seward_Jr.> <isLeaderOf>    <9th_New_York_Heavy_Artillery_Regiment> \n",
    "<id_GqUh9jFAN?_H?S_A39fu5FWu4>  <Andranik>      <isLeaderOf>    <Armenian_fedayi>       \n",
    "<id_s60Psk1DHb_H?S_OACCn8W8Kv>  <Ramasamy_Palanisamy>   <isLeaderOf>    <Democratic_Action_Party_(Malaysia)>    \n",
    "<id_pII60Mnz8o_H?S_8mvRWxKXDG>  <Matt_Bevin>    <isLeaderOf>    <Kentucky_Air_National_Guard>     \n",
    "...\n",
    "```"
   ]
  },
  {
   "cell_type": "markdown",
   "metadata": {
    "slideshow": {
     "slide_type": "slide"
    }
   },
   "source": [
    "# JSON\n",
    "\n",
    "* An open-standard file format that uses human-readable text to transmit data objects\n",
    "* Objects consist of attribute-value pairs and array data types\n",
    "* Commonly used data format for asynchronous browser-server communication\n",
    "* A language-indepedent data format\n",
    "   * Derived from JavaScript, specified in early 2000s\n",
    "   * Two competing specifications (RFC 8259 and ECMA-404)\n",
    "   * Many programming languages include code to generate and parse JSON files\n",
    "* Basic data types: number (signed decimal), string, boolean, array, object (an unordered collection of name (key)-value pairs), null   "
   ]
  },
  {
   "cell_type": "markdown",
   "metadata": {
    "slideshow": {
     "slide_type": "slide"
    }
   },
   "source": [
    "# JSON example: Yelp reviews\n",
    "\n",
    "\n",
    "```json\n",
    "{\n",
    "\"business_id\":\"AGN788ObhwXu7rb8MEejIA\",\n",
    "\"name\":\"Sheik Shoes\",\n",
    "\"neighborhood\":\"Westside\",\n",
    "\"address\":\"4300 Meadows Ln\",\n",
    "\"city\":\"Las Vegas\",\n",
    "\"state\":\"NV\",\n",
    "\"postal_code\":\"89107\",\n",
    "\"latitude\":36.172259,\n",
    "\"longitude\":-115.1963237,\n",
    "\"stars\":1.5,\n",
    "\"review_count\":4,\n",
    "\"is_open\":1,\n",
    "\"attributes\":[\"BusinessAcceptsCreditCards: True\",\"RestaurantsPriceRange2: 2\",\"WheelchairAccessible: True\"],\n",
    "\"categories\":[\"Shoe Stores\",\"Fashion\",\"Shopping\"],\n",
    "\"hours\":null,\n",
    "\"type\":\"business\"\n",
    "}\n",
    "```"
   ]
  },
  {
   "cell_type": "markdown",
   "metadata": {
    "slideshow": {
     "slide_type": "slide"
    }
   },
   "source": [
    "# XML\n",
    "\n",
    "* A markup language that defines a set of rules for encoding documents in a format that is both human and machine readable\n",
    "* Defined by an open standard (W3C's XML 1.0 Spec and several other related specifications)\n",
    "* Key concepts:\n",
    "   * **Markup and content**: text that defines the structure and content, respectively\n",
    "   * **Tag**: a markup construct that begins with `<` and ends with `>` (three types: start, end, empty element `<line-break />`)\n",
    "   * **Element**: a logical document component that either begins with a start tag and ends with a matching end tag, or consists only of an empty element tag\n",
    "   * **Attribute**: an attribute is a markup construct consisting of a name-value pair that exists within a start tag or empty element tag\n",
    "   * **XML declaration**: XML documents may begin with an XML declaration, e.g., `<?xml version=\"1.0\" encoding=\"UTF-8\"?>`"
   ]
  },
  {
   "cell_type": "markdown",
   "metadata": {
    "slideshow": {
     "slide_type": "slide"
    }
   },
   "source": [
    "# XML example\n",
    "\n",
    "\n",
    "```xml\n",
    "<person>\n",
    "  <firstname>Milan</firstname>\n",
    "  <lastname>Vojnovic</lastname>\n",
    "  <address>\n",
    "    <streetaddress>70 Girton Road</streetaddress>\n",
    "    <city>Cambridge</city>\n",
    "    <postcode>CB30LN</postcode>\n",
    "  </address>\n",
    "  <phonenumber>\n",
    "    <type>home</type>\n",
    "    <number>xxx</number>\n",
    "  </phonenumber>\n",
    "  <phonenumber>\n",
    "    <type>mobile</type>\n",
    "    <number>xxx</number>\n",
    "  </phonenumber>\n",
    "</person>\n",
    "```"
   ]
  },
  {
   "cell_type": "markdown",
   "metadata": {
    "slideshow": {
     "slide_type": "slide"
    }
   },
   "source": [
    "# XML example (cont'd)\n",
    "\n",
    "\n",
    "```xml\n",
    "<person firstname=\"Milan\" lastname=\"Vojnovic\">\n",
    "        <address streetaddress=\"70 Girton Road\" city=\"Cambridge\" postcode=\"CB30LN\"/>\n",
    "        <phonenumber type=\"home\" number=\"xxx\"/>\n",
    "        <phonenumber type=\"mobile\" number=\"yyy\"/>\n",
    "</person>\n",
    "```\n",
    "\n",
    "Here `firstname=\"Milan\"` is an attribute"
   ]
  },
  {
   "cell_type": "markdown",
   "metadata": {
    "slideshow": {
     "slide_type": "slide"
    }
   },
   "source": [
    "# dblp example\n",
    "\n",
    "[dblp](http://dblp.uni-trier.de/): computer science bibliography\n",
    "\n",
    "```xml\n",
    "<dblp>\n",
    "<article mdate=\"2017-05-28\" key=\"journals/acta/Saxena96\">\n",
    "<author>Sanjeev Saxena</author>\n",
    "<title>Parallel Integer Sorting and Simulation Amongst CRCW Models.</title>\n",
    "<pages>607-619</pages>\n",
    "<year>1996</year>\n",
    "<volume>33</volume>\n",
    "<journal>Acta Inf.</journal>\n",
    "<number>7</number>\n",
    "<url>db/journals/acta/acta33.html#Saxena96</url>\n",
    "<ee>https://doi.org/10.1007/BF03036466</ee>\n",
    "</article>\n",
    "    \n",
    "    ...\n",
    "</dblp>\n",
    "```\n",
    "\n",
    "Available from [dblp dump](http://dblp.uni-trier.de/xml/)"
   ]
  },
  {
   "cell_type": "markdown",
   "metadata": {
    "slideshow": {
     "slide_type": "slide"
    }
   },
   "source": [
    "# Resource Description Framework (RDF)\n",
    "\n",
    "* A family of W3C specifications originally designed as a metadata data model expressed in XML\n",
    "* Based on the idea of making _statements_ about resources in expressions of the form _subject-predicate-object_, known as _triples_\n",
    "* Query and inference languages: predominant is SPARQL (SQL like)\n",
    "\n",
    "```xml\n",
    "<?xml version=\"1.0\"?>\n",
    "\n",
    "<rdf:RDF\n",
    "xmlns:rdf=\"http://www.w3.org/1999/02/22-rdf-syntax-ns#\"\n",
    "xmlns:cd=\"http://www.recshop.fake/cd#\">\n",
    "\n",
    "<rdf:Description\n",
    "rdf:about=\"http://www.recshop.fake/cd/Empire Burlesque\">\n",
    "  <cd:artist>Bob Dylan</cd:artist>\n",
    "  <cd:country>USA</cd:country>\n",
    "  <cd:company>Columbia</cd:company>\n",
    "  <cd:price>10.90</cd:price>\n",
    "  <cd:year>1985</cd:year>\n",
    "</rdf:Description>\n",
    ".\n",
    ".\n",
    ".\n",
    "</rdf:RDF>\n",
    "```\n",
    "\n",
    "For more information see [W3C semantic web standards](https://www.w3.org/RDF/), [w3schools](https://www.w3schools.com/xml/xml_rdf.asp)"
   ]
  },
  {
   "cell_type": "markdown",
   "metadata": {
    "slideshow": {
     "slide_type": "slide"
    }
   },
   "source": [
    "\n",
    "<img src=\"figs/Big-Data-Landscape-2016-v18-FINAL.png\" style=\"width: 700px;\" alt=\"data center\"> \n",
    "\n",
    "* Big data analytics technology space is big with different solutions available on the market, often with overlapping functionalities\n",
    "* But how come the technology evolved as given now?"
   ]
  },
  {
   "cell_type": "markdown",
   "metadata": {
    "nbpresent": {
     "id": "bb269f1f-f8f5-4635-b999-02e1b487299f"
    },
    "slideshow": {
     "slide_type": "slide"
    }
   },
   "source": [
    "# Relational database management systems\n",
    "\n",
    "* The concept of relational data model dates back all the way to 1970s \n",
    "   * Codd, E. F., A relational model of data for large shared data banks, 1970\n",
    "* Support for transactions: online transaction processing (OTLP)\n",
    "    * Transactions: a single logical operation on the data\n",
    "    * Atomic operations ACID (next slide)\n",
    "    * Imperative and declerative programming\n"
   ]
  },
  {
   "cell_type": "markdown",
   "metadata": {
    "slideshow": {
     "slide_type": "slide"
    }
   },
   "source": [
    "# ACID\n",
    "\n",
    "A set of four properties that guarantee that database transactions are processed reliably:\n",
    "* **Atomic** means \"all-or-nothing\": when a statement is executed, every update within the transaction must succeed in order to be called succesful\n",
    "* **Consistent** means that data moves from one correct state to another correct state, with no possibility that readers could view different values that don't make sense together\n",
    "   * E.g. if a transaction attempts to delete a customer and her order history, it cannot leave order rows that reference the deleted customer's primary key; this is an inconsistent state that would cause errors if someone tried to read those order records\n",
    "* **Isolated** means that transactions executing concurrently will not become entangled with each other\n",
    "   * If two different transactions attempt to modify the same data at the same time, then one of them will have to wait for the other to complete\n",
    "* **Durable** once a transaction has succeeded, the changes will not be lost \n",
    "\n",
    "Scalability issues: may have poor availability, may use horizontal scaling but this requires distributed transactions (difficult)"
   ]
  },
  {
   "cell_type": "markdown",
   "metadata": {
    "slideshow": {
     "slide_type": "slide"
    }
   },
   "source": [
    "# Scalability\n",
    "\n",
    "A capability of a system to handle a growing workload, or its potential to be enlarged to accomodate that growth\n",
    "\n",
    "<img src=\"figs/scaling.png\" style=\"width: 500px;\" alt=\"scaling\"> \n",
    "\n",
    "* **Horizontal**: adding more nodes to a distributed computing system \n",
    "   * Ex. increasing the number of compute nodes in a cluster\n",
    "* **Vertical**: adding resources to a single node system\n",
    "   * Ex. adding CPUs or memory in a single computer\n"
   ]
  },
  {
   "cell_type": "markdown",
   "metadata": {
    "slideshow": {
     "slide_type": "slide"
    }
   },
   "source": [
    "# Data centers\n",
    "\n",
    "<img src=\"figs/datacenter.png\" style=\"width: 700px;\" alt=\"data center\"> \n",
    "\n",
    "* Clusters of large number of commodity machines (hundreds of thousand)\n",
    "* Run by companies such as Amazon, Google, and Microsoft "
   ]
  },
  {
   "cell_type": "markdown",
   "metadata": {
    "slideshow": {
     "slide_type": "slide"
    }
   },
   "source": [
    "# Computer system bottlenecks\n",
    "\n",
    "* **CPU utilization**: occurs when the processor is busy so that it cannot respond to requests for time\n",
    "* **Memory utilization**: system does not sufficient or fast enough RAM\n",
    "   * It cuts the speed at which the RAM can serve information to the CPU, which slows overall operations\n",
    "   * The CPU will start offloading storage to a significantly slower HDD or SSD to keep things running\n",
    "* **Network utilization**: the communication between processes residing on differewnt devices connected by a network lack the necessary bandwidth\n",
    "* **Software limitations**: sometimes bottleneck-related performance originate from the software itself\n",
    "* **Disk usage**: often the slowest component inside a computer"
   ]
  },
  {
   "cell_type": "markdown",
   "metadata": {
    "slideshow": {
     "slide_type": "slide"
    }
   },
   "source": [
    "# A modern high-end laptop\n",
    "\n",
    "<img src=\"figs/mbp13-gray-select-201610_GEO_TH.jpeg\" style=\"width: 300px;\" alt=\"laptop\"> \n",
    "\n",
    "* CPU: [Intel i7](https://ark.intel.com/products/82932/Intel-Core-i7-5820K-Processor-15M-Cache-up-to-3_60-GHz) **3.30 GHz**, **6 cores**, **12 threads**\n",
    "* RAM: **16 GB**\n",
    "* HDD: **1TB**\n",
    "\n"
   ]
  },
  {
   "cell_type": "markdown",
   "metadata": {
    "slideshow": {
     "slide_type": "slide"
    }
   },
   "source": [
    "# Hard disk prize per GB\n",
    "\n",
    "<img src=\"figs/hd-cost-per-gb.png\" style=\"width: 600px;\" alt=\"RAM size\"> \n",
    "\n",
    "Source [backblaze](https://www.backblaze.com/blog/hard-drive-cost-per-gigabyte/)\n",
    "\n",
    "Note: [SSD vs HDD](http://www.storagereview.com/ssd_vs_hdd) \n",
    "   * Failure rate: mean inter-failure time of 2M hours (SSD), 1.5M hours (HDD)\n",
    "   * File copy/write speed: **>200 MB/s** up to 500 MB/s (SSD), **50-120MB/s** (HDD)\n",
    "   * File opening speed: SSD up to 30% faster than HDD\n",
    "   * Cost: cca **\\$0.20/GB** (for 1TB drive) (SSD), **\\$0.03/GB** (for 4TB drive) (HDD)\n"
   ]
  },
  {
   "cell_type": "markdown",
   "metadata": {
    "slideshow": {
     "slide_type": "slide"
    }
   },
   "source": [
    "<img src=\"figs/RAMAvg.png\" style=\"width: 700px;\" alt=\"RAM size\"> \n",
    "\n",
    "Source: [TechTalk](https://techtalk.pcpitstop.com/2016/10/05/average-pc-memory-ram-continues-climb/)"
   ]
  },
  {
   "cell_type": "markdown",
   "metadata": {
    "slideshow": {
     "slide_type": "slide"
    }
   },
   "source": [
    "# The rise of modern big data analytics systems\n",
    "\n",
    "<img src=\"figs/timeline.png\" style=\"width: 900px;\" alt=\"big data timeline\"> \n"
   ]
  },
  {
   "cell_type": "markdown",
   "metadata": {
    "slideshow": {
     "slide_type": "slide"
    }
   },
   "source": [
    "# Data processing types\n",
    "\n",
    "* **Batch processing**: an execution of a series of jobs in a program on computing system without manual intervention (non-interactive)\n",
    "   * Running a data analytics mapreduce job\n",
    "* **Interactive computing**: software which accepts input from humans as it runs\n",
    "   * Running ad-hoc queries on a dataset\n",
    "* **Stream processing**: given a sequence of data (a stream), a series of operations is applied to each element in the stream\n",
    "   * Referred to also as _dataflow programming_, _event stream processing_, _reactive programming_\n",
    "* **Lambda architecture**: data-processing designed to handle massive quantities of data by taking advance of both batch and stream processing methods\n",
    "   * Attempts to balance latency, throughput, and fault-tolerance by using batch processing to provide comprehensive and accurate views of batch data, while simultaneously using real-time stream processing to provide views of online data"
   ]
  },
  {
   "cell_type": "markdown",
   "metadata": {
    "slideshow": {
     "slide_type": "slide"
    }
   },
   "source": [
    "# Batch data processing\n",
    "\n",
    "Example application scenarios:\n",
    "\n",
    "* **Distributed grep**: `line of text if matches a user provided pattern`\n",
    "* **Count URL access frequency**: `(url, total count)`\n",
    "* **Reverse web-link graph**: `(target_url, list(src_url linking to target_url))`\n",
    "* **Term-vector per host**: `(host name, list(term)`\n",
    "* **Inverted index**: `(word, list(document id))`\n",
    "* **Distributed sort**: `(key, value)` data by `key`\n",
    "\n",
    "Led to development of new distributed file systems (starting with Google File System) and new computation models (starting with Mapreduce)\n",
    "\n",
    "Note: 2016 [Soft Benchmark](http://sortbenchmark.org/) record: **100 TB** in **134 seconds**, 512 nodes with 2 10-core CPUs, 512 GB RAM"
   ]
  },
  {
   "cell_type": "markdown",
   "metadata": {
    "slideshow": {
     "slide_type": "slide"
    }
   },
   "source": [
    "# Distributed file systems and mapreduce\n",
    "\n",
    "* **Distributed file systems** (covered in week 2)\n",
    "    * Needed new distributed file systems that scale to large volumes of data\n",
    "    * Designed for fault tolerance, working on large clusters of commodity machines\n",
    "    * Examples:\n",
    "        * Google File System (now Colossus)\n",
    "        * Apache HDFS\n",
    "* **Mapreduce** (covered in week 3)\n",
    "    * Needed a new computation simple\n",
    "    * Required to scale, have simple API, and cover a set of computation tasks of interest"
   ]
  },
  {
   "cell_type": "markdown",
   "metadata": {
    "slideshow": {
     "slide_type": "slide"
    }
   },
   "source": [
    "# Apache Hadoop\n",
    "\n",
    "An open-source software framework used for distributed storage and processing of dataset of big data using the mapreduce programming model\n",
    "* For computer clusters built from commodity hardware\n",
    "* All the modules designed with a fundamental assumption that hardware failures are common and should be automatically handled by the framework \n",
    "   * Similar to the original design requirements of Internet protocols\n",
    "\n",
    "The basic framework is composed of the following modules:\n",
    "* **Hadoop Common**: libraries and utilities needed by other Hadoop modules\n",
    "* **Hadoop Distributed File System (HDFS)**: a distributed file-system that stores data on commodity machines, providing high aggregate bandwidth across the cluster\n",
    "* **Hadoop YARN**: a platform responsible for managing computing resources in clusters and using them for scheduling users' applications and\n",
    "* **Hadoop MapReduce**: an implementation of the MapReduce programming model for large-scale data processing"
   ]
  },
  {
   "cell_type": "markdown",
   "metadata": {
    "slideshow": {
     "slide_type": "slide"
    }
   },
   "source": [
    "# Amazon shopping cart example\n",
    "\n",
    "* **Shopping cart service**: maintain information about customer's shopping cart\n",
    "\n",
    "Amazon facts:\n",
    "* Amazon runs a world-wide e-commerce platform that serves tens of millions customers at peak times\n",
    "* Strict operational requirements on the platform in terms of *performance*, *reliability* and *efficiency*\n",
    "* Reliability is one of the most important requirements\n",
    "    * Even the slightest outage has significant financial consequences and impacts customer trust\n",
    "* To support continuous growth, the platform needs to be highly scalable \n",
    "\n",
    "* Back in 2004, Amazon was running Oracle's enterprise edition with clustering and replication \n",
    "* Limits were reached to sustain the availability, scalability and performance\n",
    "* Led to the development of Amazon Dynamo distributed key-value store\n",
    "   * Designed by trading strict consistency guarantees for availability and scalability\n",
    "\n",
    "Vogels, W., [A Decade of Dynamo](http://www.allthingsdistributed.com/2017/10/a-decade-of-dynamo.html), Blog, All Things Distributed\n"
   ]
  },
  {
   "cell_type": "markdown",
   "metadata": {
    "slideshow": {
     "slide_type": "slide"
    }
   },
   "source": [
    "# NoSQL databases\n",
    "\n",
    "The term NoSQL refers to _non-relational_ databases, began gaining popularity around 2009\n",
    "\n",
    "Categories:\n",
    "* **Key-value stores**\n",
    "   * The data items are keys that have a set of attributes; all data relevant to a key is stored with the key \n",
    "   * Data is frequently duplicated\n",
    "   * Ex: Amazon's Dynamo and popular caching technologies used as key-value stores such as MemcacheD\n",
    "* **Column stores**\n",
    "   * Referred also as wide-column stores\n",
    "   * Ex: Google's Bigtable, served as inspiration for other systems such as Apache Cassandra\n",
    "* **Document stores**\n",
    "   * The basic unit of storage is the complete document\n",
    "   * Typical document formats: JSON, XML, YAML\n",
    "   * Ex: MongoDB and Apache CouchDB\n",
    "   "
   ]
  },
  {
   "cell_type": "markdown",
   "metadata": {
    "slideshow": {
     "slide_type": "slide"
    }
   },
   "source": [
    "# NoSQL databases (cont'd)\n",
    "\n",
    "* **Graph databases**\n",
    "   * Data represented as a graph - a network of nodes and edges that connect the nodes\n",
    "   * Both nodes and edges can have attributes\n",
    "   * Use cases: social networking and semantic web applications\n",
    "   * Ex: FlockDB, Neo4J, Polyglot, Amazon's Neptun\n",
    "* **Object databases**\n",
    "   * The basic unit is an object, not relations and columns\n",
    "   * Ex: db4o, InterSystems Cache  \n",
    "* **XML databases**\n",
    "   * Special form of document databases, optimized specifically for working with XML\n",
    "   * Ex: Tamino and eXist\n",
    "   \n",
    "Notes:\n",
    "* See [http://nosql-database.org](http://nosql-database.org) for a comprehensive list of NoSQL databases\n",
    "* See [db-engines.com](https://db-engines.com/en/ranking) for a database popularity ranking"
   ]
  },
  {
   "cell_type": "markdown",
   "metadata": {
    "slideshow": {
     "slide_type": "slide"
    }
   },
   "source": [
    "# Structured queries\n",
    "\n",
    "* Execute queries using a SQL like language\n",
    "* Need to allow for loading data into a structured data model\n",
    "* Need to allow for fast evaluation of queries\n",
    "* Want to use a SQL like API, not some imperative programming (e.g. Mapreduce)\n",
    "\n",
    "Note: covered in week 04 (we will look into Hive and Spark SQL) "
   ]
  },
  {
   "cell_type": "markdown",
   "metadata": {
    "slideshow": {
     "slide_type": "slide"
    }
   },
   "source": [
    "# Graph queries\n",
    "\n",
    "* Input data naturally fits into a graph data model\n",
    "* Graph data model: _entities_ related with _relations_\n",
    "* Both entities and relations can have _attributes_\n",
    "* Ex. Yago: `<Richard_Stallman> <isLeaderOf> <Free_Software_Foundation>`\n",
    "   * Entities: `<Richard_Stallman>` and `<Free_Software_Foundation>`\n",
    "   * Relatonship: `<isLeaderOf>` attribute specifies the type of relationship 'is leader of'\n",
    "* Types of qraph data processing:\n",
    "   * Aggregation: ex. node degrees \n",
    "   * Centrality measures: ex. PageRank (requires iterative computation)\n",
    "   * Motif queries: ex. give me all people who are leaders of Free_Software_Foundation (requires graph traversal)\n",
    "\n",
    "Note: graph processing covered in week 5"
   ]
  },
  {
   "cell_type": "markdown",
   "metadata": {
    "slideshow": {
     "slide_type": "slide"
    }
   },
   "source": [
    "# Stream data processing\n",
    "\n",
    "Ex. applications: fraud detection in bank transactions, anomaly detection in sensor data, select tweets about Donald Trump\n",
    "\n",
    "<img src=\"figs/stream-processing.png\" style=\"width: 600px;\" alt=\"stream processing\"> \n",
    "\n",
    "\n",
    "Requirements: scaling to support data velocity, low latency, efficienty recovery from failures, integration with batch and interactive processing"
   ]
  },
  {
   "cell_type": "markdown",
   "metadata": {
    "slideshow": {
     "slide_type": "slide"
    }
   },
   "source": [
    "# Machine learning task: ad click prediction\n",
    "\n",
    "* Criteo terabyte click logs [dataset](http://labs.criteo.com/2013/12/download-terabyte-click-logs/) \n",
    "\n",
    "* day_0 data: **196M** impressions, **26** features, **50GB** raw data size\n",
    "\n",
    "Row sample: `1 5 110 16 1 0 14 7 1 306 62770d79 e21f5d58 afea442f 945c7fcf 38b02748 6fcd6dcb 3580aa21 28808903 46dedfa6 2e027dc1 0c7c4231 95981d1f 00c5ffb7 be4ee537 8a0b74cc 4cdc3efa d20856aa b8170bba 9512c20b c38e2f28 14f65a5d 25b1b089 d7c1fc0b 7caf609c 30436bfc ed10571d`\n",
    "\n",
    "\n",
    "```\n",
    "LSE021353:Criteo vojnovic$ wc -l day_0\n",
    " 195841983 day_0\n",
    "\n",
    "LSE021353:Criteo vojnovic$ grep \"^1\" day_0 | wc -l\n",
    " 6286525\n",
    "```\n",
    "\n",
    "Click rate = **0.0321**\n",
    "\n",
    "* **Machine learning task**: fitting a logistic regression model\n",
    "   * It requires iterative optimization method to find parameter vector that minimizes a loss function\n"
   ]
  },
  {
   "cell_type": "markdown",
   "metadata": {
    "slideshow": {
     "slide_type": "slide"
    }
   },
   "source": [
    "# Machine learning task: collaborative filtering\n",
    "\n",
    "* Netflix prize: was an open competition soliciting the best collaborative filtering algorithm to predict user ratings for films, based on previous ratings without any other information about the users or films\n",
    "* Began on October 2nd, 2006, the winning team awarded **$1M** on September 21st, 2009\n",
    "* Training data set: `<user, movie, date of grade, grade>`\n",
    "    * **100M** ratings\n",
    "    * **480,000** users\n",
    "    * **18,000** movie titles \n",
    "    * **2.1GB** raw data size\n",
    "    * Data collected between Oct 1998 and Dec 2005\n",
    "* **Machine learning task**: predict ratings of movies by users\n",
    "\n",
    "More about [Netflix prize](https://en.wikipedia.org/wiki/Netflix_Prize)\n",
    "\n",
    "Note: machine learning tasks covered in weeks 7 and 8"
   ]
  },
  {
   "cell_type": "markdown",
   "metadata": {
    "slideshow": {
     "slide_type": "slide"
    }
   },
   "source": [
    "# Apache Spark\n",
    "\n",
    "* Introduced the novel concept of a resilient distributed data set (RDD) for fault-tolerant, distributed in-memory computing\n",
    "* Integration of different types of data processing into a single system\n",
    "* API interfaces in different programming languages (Scala, Java, Python, R)\n",
    "\n",
    "Spark functionalities:\n",
    "\n",
    "<img src=\"figs/Spark-func.png\" style=\"width: 300px;\" alt=\"Spark func\"> \n",
    "\n",
    "Note: we will cover various aspects of Apache Spark"
   ]
  },
  {
   "cell_type": "markdown",
   "metadata": {
    "slideshow": {
     "slide_type": "slide"
    }
   },
   "source": [
    "# A note on computer system conferences\n",
    "\n",
    "The design of many big data analytics systems was first made public in a research paper, presented at a computer systems conference\n",
    "\n",
    "Some computer systems conferences:\n",
    "* [OSDI](https://www.usenix.org/conferences/byname/179) USENIX Symposium on Operating Systems Design and Implementation\n",
    "* [SOSP](http://sosp.org/) ACM Symposium on Operating Systems Principles\n",
    "* [NSDI](https://www.usenix.org/conferences/byname/178) USENIX Symposium on Networked Systems Design and Implementation\n",
    "\n",
    "some database system conferences:\n",
    "* [VLDB](http://www.vldb.org/conference.html) Very Large Databases\n",
    "* [SIGMOD](https://sigmod.org/) International Conference on Management of Data\n",
    "* [PODS](https://sigmod.org/pods/) Principles of Database Systems\n",
    "\n",
    "Current trend: making a system open source in early stages (e.g. Tensorflow)\n",
    "\n"
   ]
  },
  {
   "cell_type": "markdown",
   "metadata": {
    "slideshow": {
     "slide_type": "slide"
    }
   },
   "source": [
    "# Lab preview\n",
    "\n",
    "* Command line interface\n",
    "   * Basic file system commands\n",
    "   * Basic system administration commands\n",
    "   * Network commands\n",
    "   \n",
    "* GCP \n",
    "  * Install gcloud console\n",
    "  * Create a cluster, work with a bucket\n",
    "  * Open jupyter notebook run in a GCP cluster\n",
    "  \n",
    "* docker\n",
    "  * Install docker\n",
    "  * Run jupyter notebook within a cluster "
   ]
  }
 ],
 "metadata": {
  "anaconda-cloud": {},
  "celltoolbar": "Slideshow",
  "kernelspec": {
   "display_name": "Python 3",
   "language": "python",
   "name": "python3"
  },
  "language_info": {
   "codemirror_mode": {
    "name": "ipython",
    "version": 3
   },
   "file_extension": ".py",
   "mimetype": "text/x-python",
   "name": "python",
   "nbconvert_exporter": "python",
   "pygments_lexer": "ipython3",
   "version": "3.5.2"
  },
  "nbpresent": {
   "slides": {
    "050e93a1-7fd8-44aa-b6bf-e29553bdcd8f": {
     "id": "050e93a1-7fd8-44aa-b6bf-e29553bdcd8f",
     "prev": "c8a17897-14b5-431a-8ef4-736e5e0b4f6f",
     "regions": {
      "55e910c3-f3c1-48d7-9375-b53d9ef725a2": {
       "attrs": {
        "height": 1,
        "width": 1,
        "x": 0,
        "y": 0
       },
       "content": {
        "cell": "bb269f1f-f8f5-4635-b999-02e1b487299f",
        "part": "source"
       },
       "id": "55e910c3-f3c1-48d7-9375-b53d9ef725a2"
      }
     }
    },
    "2468f964-0e48-4c95-8a9d-958346af2c15": {
     "id": "2468f964-0e48-4c95-8a9d-958346af2c15",
     "prev": "d966fd9d-51b7-4dd9-a943-d8da292e1c4f",
     "regions": {
      "c8e95b84-4a7c-44a2-9032-98d43ae82155": {
       "attrs": {
        "height": 0.8,
        "width": 0.8,
        "x": 0.1,
        "y": 0.1
       },
       "content": {
        "cell": "bb269f1f-f8f5-4635-b999-02e1b487299f",
        "part": "whole"
       },
       "id": "c8e95b84-4a7c-44a2-9032-98d43ae82155"
      }
     }
    },
    "c8a17897-14b5-431a-8ef4-736e5e0b4f6f": {
     "id": "c8a17897-14b5-431a-8ef4-736e5e0b4f6f",
     "prev": "2468f964-0e48-4c95-8a9d-958346af2c15",
     "regions": {
      "3f61c557-a5af-43f2-8879-65f17099025f": {
       "attrs": {
        "height": 0.8,
        "width": 0.8,
        "x": 0.1,
        "y": 0.1
       },
       "content": {
        "cell": "ba2fed62-43e0-4f1e-8f75-429304b03a6d",
        "part": "whole"
       },
       "id": "3f61c557-a5af-43f2-8879-65f17099025f"
      }
     }
    },
    "d966fd9d-51b7-4dd9-a943-d8da292e1c4f": {
     "id": "d966fd9d-51b7-4dd9-a943-d8da292e1c4f",
     "layout": "manual",
     "prev": "ed5b3982-c842-4ae3-b741-37dfafcdf94c",
     "regions": {
      "930cc750-ad74-43e3-95dc-948a6a11537d": {
       "attrs": {
        "height": 0.8,
        "width": 0.8,
        "x": 0.1,
        "y": 0.1
       },
       "id": "930cc750-ad74-43e3-95dc-948a6a11537d"
      },
      "e89ebd4b-c2ce-41c9-bbdb-3d41e89bc27d": {
       "attrs": {
        "height": 1,
        "pad": 0.01,
        "treemap:weight": 1,
        "width": 1,
        "x": 0,
        "y": 0
       },
       "content": {
        "cell": "b80f1853-4cbc-4bc9-a541-1e8e70de56ce",
        "part": "whole"
       },
       "height": 0.8,
       "id": "e89ebd4b-c2ce-41c9-bbdb-3d41e89bc27d",
       "pad": 0,
       "width": 0.8,
       "x": 0.1,
       "y": 0.1
      }
     }
    },
    "ed5b3982-c842-4ae3-b741-37dfafcdf94c": {
     "id": "ed5b3982-c842-4ae3-b741-37dfafcdf94c",
     "prev": null,
     "regions": {
      "754d6a37-0cc0-48cf-bcf6-399a2c6207d7": {
       "attrs": {
        "height": 0.8,
        "width": 0.8,
        "x": 0.1,
        "y": 0.1
       },
       "content": {
        "cell": "1620b10f-6d53-4da9-ac79-dc4eb4b58d70",
        "part": "whole"
       },
       "id": "754d6a37-0cc0-48cf-bcf6-399a2c6207d7"
      }
     }
    }
   },
   "themes": {
    "default": "8775f7ad-ed22-45a7-bc8c-5f988def594f",
    "theme": {}
   }
  }
 },
 "nbformat": 4,
 "nbformat_minor": 1
}
